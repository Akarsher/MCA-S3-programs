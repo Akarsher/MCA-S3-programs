{
  "nbformat": 4,
  "nbformat_minor": 0,
  "metadata": {
    "colab": {
      "provenance": [],
      "include_colab_link": true
    },
    "kernelspec": {
      "name": "python3",
      "display_name": "Python 3"
    },
    "language_info": {
      "name": "python"
    }
  },
  "cells": [
    {
      "cell_type": "markdown",
      "metadata": {
        "id": "view-in-github",
        "colab_type": "text"
      },
      "source": [
        "<a href=\"https://colab.research.google.com/github/Akarsher/MCA-S3-programs/blob/main/ML/SVM_Implementation_Using_Iris_Dataset.ipynb\" target=\"_parent\"><img src=\"https://colab.research.google.com/assets/colab-badge.svg\" alt=\"Open In Colab\"/></a>"
      ]
    },
    {
      "cell_type": "code",
      "execution_count": 9,
      "metadata": {
        "id": "USy4LMEIsW8g",
        "outputId": "c9c1b2fc-e557-4d5c-b4ff-b9e0a9ba77cd",
        "colab": {
          "base_uri": "https://localhost:8080/"
        }
      },
      "outputs": [
        {
          "output_type": "stream",
          "name": "stdout",
          "text": [
            "   Id  SepalLengthCm  SepalWidthCm  PetalLengthCm  PetalWidthCm      Species\n",
            "0   1            5.1           3.5            1.4           0.2  Iris-setosa\n",
            "1   2            4.9           3.0            1.4           0.2  Iris-setosa\n",
            "2   3            4.7           3.2            1.3           0.2  Iris-setosa\n",
            "3   4            4.6           3.1            1.5           0.2  Iris-setosa\n",
            "4   5            5.0           3.6            1.4           0.2  Iris-setosa\n",
            "\n",
            "Accuracy: 1.0\n",
            "Classification Report:\n",
            "                 precision    recall  f1-score   support\n",
            "\n",
            "    Iris-setosa       1.00      1.00      1.00        10\n",
            "Iris-versicolor       1.00      1.00      1.00         9\n",
            " Iris-virginica       1.00      1.00      1.00        11\n",
            "\n",
            "       accuracy                           1.00        30\n",
            "      macro avg       1.00      1.00      1.00        30\n",
            "   weighted avg       1.00      1.00      1.00        30\n",
            "\n"
          ]
        }
      ],
      "source": [
        "# Import necessary libraries\n",
        "import pandas as pd\n",
        "from sklearn.model_selection import train_test_split\n",
        "from sklearn.preprocessing import StandardScaler\n",
        "from sklearn.svm import SVC\n",
        "from sklearn.metrics import accuracy_score, classification_report\n",
        "\n",
        "\n",
        "# Load the Iris dataset & divide the dataset into feature(x) & target(y) column\n",
        "df=pd.read_csv(\"https://raw.githubusercontent.com/Akarsher/MCA-S3-programs/refs/heads/main/ML/Datasets/Iris.csv\")\n",
        "print(df.head())\n",
        "x = df.drop('Species', axis=1)\n",
        "y = df['Species']\n",
        "\n",
        "# Split the dataset into training and testing sets\n",
        "x_train, x_test, y_train, y_test = train_test_split(x, y, test_size=0.2, random_state=42)\n",
        "\n",
        "# Standardize features(Apply StandardScaler)\n",
        "scalar=StandardScaler()\n",
        "x_train=scalar.fit_transform(x_train)\n",
        "x_test=scalar.transform(x_test)\n",
        "\n",
        "\n",
        "# Initialize SVM classifier. You can try different kernels like 'linear', 'rbf', etc.\n",
        "# for example....svm_classifier = SVC(kernel='linear')\n",
        "svm_classifier = SVC(kernel='linear')\n",
        "\n",
        "# Train the SVM classifier\n",
        "svm_classifier.fit(x_train, y_train)\n",
        "\n",
        "# Predictions on the test set\n",
        "pred=svm_classifier.predict(x_test)\n",
        "\n",
        "# Evaluate the performance of the classifier by displaying accuracy\n",
        "res=accuracy_score(y_test,pred)\n",
        "print(\"\\nAccuracy:\",res)\n",
        "\n",
        "# Display classification report\n",
        "print(\"Classification Report:\")\n",
        "print(classification_report(y_test,pred))\n",
        "\n",
        "\n",
        "\n"
      ]
    },
    {
      "cell_type": "code",
      "source": [],
      "metadata": {
        "id": "mCU9VjHS9TI1"
      },
      "execution_count": null,
      "outputs": []
    }
  ]
}