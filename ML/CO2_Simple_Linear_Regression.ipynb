{
  "nbformat": 4,
  "nbformat_minor": 0,
  "metadata": {
    "colab": {
      "provenance": [],
      "authorship_tag": "ABX9TyNDqZoXgVT2qOVwbcKXKfzS",
      "include_colab_link": true
    },
    "kernelspec": {
      "name": "python3",
      "display_name": "Python 3"
    },
    "language_info": {
      "name": "python"
    }
  },
  "cells": [
    {
      "cell_type": "markdown",
      "metadata": {
        "id": "view-in-github",
        "colab_type": "text"
      },
      "source": [
        "<a href=\"https://colab.research.google.com/github/Akarsher/MCA-S3-programs/blob/main/ML/CO2_Simple_Linear_Regression.ipynb\" target=\"_parent\"><img src=\"https://colab.research.google.com/assets/colab-badge.svg\" alt=\"Open In Colab\"/></a>"
      ]
    },
    {
      "cell_type": "code",
      "execution_count": null,
      "metadata": {
        "id": "mn3vSqSCRdF6"
      },
      "outputs": [],
      "source": [
        "# import the required libraries\n",
        "\n",
        "import numpy as np\n",
        "import pandas as pd\n",
        "import keras\n",
        "import seaborn as sns\n",
        "import matplotlib.pyplot as plt\n",
        "from sklearn import linear_model\n",
        "from sklearn.linear_model import LinearRegression\n",
        "from sklearn.model_selection import train_test_split\n",
        "from sklearn.metrics import mean_squared_error, r2_score\n"
      ]
    },
    {
      "cell_type": "code",
      "source": [
        "# load the dataset\n",
        "\n",
        "df = pd.read_csv('https://raw.githubusercontent.com/Akarsher/MCA-S3-programs/refs/heads/main/ML/advertising.csv')\n",
        "df.head()\n",
        "\n"
      ],
      "metadata": {
        "id": "ebhFU1teiC0j"
      },
      "execution_count": null,
      "outputs": []
    },
    {
      "cell_type": "code",
      "source": [
        "# create scatterplot of this dataset\n",
        "\n",
        "plt.figure(figsize=(10,5))\n",
        "plt.title('scatterplot of sales and TV')\n",
        "sns.regplot(x='TV', y='Sales' ,color='green',  line_kws={'color':'red'},data=df)\n",
        "plt.grid()\n",
        "plt.show()"
      ],
      "metadata": {
        "id": "HovUoHANnrBB"
      },
      "execution_count": null,
      "outputs": []
    },
    {
      "cell_type": "code",
      "source": [
        "# x and y values are set\n",
        "# train and test data is splited\n",
        "\n",
        "x = df[['TV']]\n",
        "y = df['Sales']\n",
        "\n",
        "x_train, x_test, y_train, y_test = train_test_split(x,y, test_size=0.2 ,random_state=42)"
      ],
      "metadata": {
        "id": "9RQTVMERis_K"
      },
      "execution_count": null,
      "outputs": []
    },
    {
      "cell_type": "code",
      "source": [
        "# creating a model\n",
        "model = LinearRegression()\n",
        "model.fit(x,y)\n",
        "\n",
        "# predicting using the model\n",
        "predicted= model.predict(x_test)\n"
      ],
      "metadata": {
        "id": "-n5lnkSooCRR"
      },
      "execution_count": null,
      "outputs": []
    },
    {
      "cell_type": "code",
      "source": [
        "# Evaluating the model accuracy\n",
        "\n",
        "r2 =r2_score(y_test, predicted)\n",
        "mse= mean_squared_error(y_test,predicted)\n",
        "print('Accuracy: ',r2)\n",
        "print('mean squared error:',mse)"
      ],
      "metadata": {
        "id": "AjD97x2mqxuR"
      },
      "execution_count": null,
      "outputs": []
    }
  ]
}