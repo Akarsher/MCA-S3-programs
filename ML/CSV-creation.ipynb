import pandas as pd
import numpy as np

data = {'Name' :['akarsh','akhil','adwaith','adithya','allen'],
        'Age' :[21,22,20,22,23],
        'Course' :['B.Tech','M.Tech','Bsc-CS','MCA','BCA']}
df = pd.DataFrame(data)
print(df)

df.to_csv('data.csv',index=False)
print("CSV file created successfully.")
